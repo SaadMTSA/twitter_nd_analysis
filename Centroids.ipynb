{
 "cells": [
  {
   "cell_type": "markdown",
   "metadata": {},
   "source": [
    "# This code was used to calculate the centroids for polygons"
   ]
  },
  {
   "cell_type": "code",
   "execution_count": 1,
   "metadata": {},
   "outputs": [],
   "source": [
    "import pandas as pd\n",
    "from Classes.Database import Database\n",
    "from shapely import geometry\n",
    "import re"
   ]
  },
  {
   "cell_type": "markdown",
   "metadata": {},
   "source": [
    "### The first function calculates the centroid\n",
    "### The second function was used to create the sql insertion queries (although we can use sqlalchemy)"
   ]
  },
  {
   "cell_type": "code",
   "execution_count": 2,
   "metadata": {},
   "outputs": [],
   "source": [
    "def create_centroid(val):\n",
    "    if val is None:\n",
    "        return None\n",
    "    points = []\n",
    "    for i in val.split('],'):\n",
    "        points.append(re.findall(r\"[-+]?\\d*\\.\\d+|\\d+\", i))\n",
    "        points[-1][0] = float(points[-1][0])\n",
    "        points[-1][1] = float(points[-1][1])\n",
    "    myplgn = geometry.Polygon(points)\n",
    "    return re.findall(r\"[-+]?\\d*\\.\\d+|\\d+\", myplgn.centroid.wkt)\n",
    "def getTweetsInsertQuery(tweets):\n",
    "    query = \"\"\n",
    "    for tweet in tweets:\n",
    "        temp = \"('{0}', '{1}', '{2}', '{3}', {4}, {5}, {6}, {7}, '{8}', {9}, {10}, {11})\".format(tweet[0],\n",
    "                                     tweet[1],\n",
    "                                     tweet[2],\n",
    "                                     tweet[3],\n",
    "                                     ensureDBNull(tweet[4]),\n",
    "                                     ensureDBNull(tweet[5]),\n",
    "                                     tweet[10],\n",
    "                                     tweet[11],\n",
    "                                     tweet[6],\n",
    "                                     ensureDBNull(tweet[7]),\n",
    "                                     ensureDBNull(tweet[8]),\n",
    "                                     ensureDBNull(tweet[9]))\n",
    "        query = query + \",\\n\" + temp\n",
    "#         query = \"{0},\\n{1}\".format(query, temp) \n",
    "                   \n",
    "    query = 'REPLACE INTO TWEETS VALUES\\n' + query[2:] + ';'\n",
    "#     query = 'REPLACE INTO TWEETS VALUES\\n{0};'.format(query)\n",
    "    return query\n",
    "def ensureDBNull(cell):\n",
    "    return 'NULL' if cell is None else (\"'\" + cell + \"'\")"
   ]
  },
  {
   "cell_type": "code",
   "execution_count": null,
   "metadata": {},
   "outputs": [],
   "source": [
    "allTweets = pd.read_sql(\"SELECT * FROM tweetCoords\", Database().myDB)"
   ]
  },
  {
   "cell_type": "code",
   "execution_count": null,
   "metadata": {},
   "outputs": [],
   "source": [
    "longs = []\n",
    "latds = []\n",
    "kk = 0\n",
    "tweets = allTweets.copy()\n",
    "cords = tweets['coordinates']\n",
    "for i in tweets['location_coordinates']:\n",
    "    if cords[kk] is not None or i is None:\n",
    "        lat, lon = re.findall(r\"[-+]?\\d*\\.\\d+|\\d+\", cords[kk])\n",
    "    else:\n",
    "        lon, lat = create_centroid(i)\n",
    "    latds.append(lat)\n",
    "    longs.append(lon)\n",
    "    kk+=1\n",
    "tweets['longitude'] = longs\n",
    "tweets['latitudes'] = latds"
   ]
  }
 ],
 "metadata": {
  "kernelspec": {
   "display_name": "Python 2",
   "language": "python",
   "name": "python2"
  },
  "language_info": {
   "codemirror_mode": {
    "name": "ipython",
    "version": 2
   },
   "file_extension": ".py",
   "mimetype": "text/x-python",
   "name": "python",
   "nbconvert_exporter": "python",
   "pygments_lexer": "ipython2",
   "version": "2.7.14"
  }
 },
 "nbformat": 4,
 "nbformat_minor": 2
}
